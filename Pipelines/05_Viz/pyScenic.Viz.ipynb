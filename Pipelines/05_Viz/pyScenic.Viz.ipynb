{
 "cells": [
  {
   "cell_type": "code",
   "execution_count": 3,
   "id": "00b690df-ed64-4864-a7f8-b71fb571c02d",
   "metadata": {},
   "outputs": [],
   "source": [
    "# helper functions (not yet integrated into pySCENIC):\n",
    "\n",
    "from pyscenic.utils import load_motifs\n",
    "import operator as op\n",
    "from IPython.display import HTML, display\n",
    "import pandas as pd\n",
    "\n",
    "BASE_URL = \"http://motifcollections.aertslab.org/v9/logos/\"\n",
    "COLUMN_NAME_LOGO = \"MotifLogo\"\n",
    "COLUMN_NAME_MOTIF_ID = \"MotifID\"\n",
    "COLUMN_NAME_TARGETS = \"TargetGenes\"\n",
    "\n",
    "def display_logos(df: pd.DataFrame, top_target_genes: int = 3, base_url: str = BASE_URL):\n",
    "    \"\"\"\n",
    "    :param df:\n",
    "    :param base_url:\n",
    "    \"\"\"\n",
    "    # Make sure the original dataframe is not altered.\n",
    "    df = df.copy()\n",
    "    \n",
    "    # Add column with URLs to sequence logo.\n",
    "    def create_url(motif_id):\n",
    "        return '<img src=\"{}{}.png\" style=\"max-height:124px;\"></img>'.format(base_url, motif_id)\n",
    "    df[(\"Enrichment\", COLUMN_NAME_LOGO)] = list(map(create_url, df.index.get_level_values(COLUMN_NAME_MOTIF_ID)))\n",
    "    \n",
    "    # Truncate TargetGenes.\n",
    "    def truncate(col_val):\n",
    "        return sorted(col_val, key=op.itemgetter(1))[:top_target_genes]\n",
    "    df[(\"Enrichment\", COLUMN_NAME_TARGETS)] = list(map(truncate, df[(\"Enrichment\", COLUMN_NAME_TARGETS)]))\n",
    "    \n",
    "    MAX_COL_WIDTH = pd.get_option('display.max_colwidth')\n",
    "    pd.set_option('display.max_colwidth', 200)\n",
    "    display(HTML(df.head().to_html(escape=False)))\n",
    "    pd.set_option('display.max_colwidth', MAX_COL_WIDTH)\n",
    "\n",
    "\n",
    "df_motifs_CTR = load_motifs('/mnt/gmi-analysis01/_90.User_Data/juhyunk/project/schizophrenia/scRNA/singleCellAnalysis_byLibrary/scvi_integrated/2023-01-18/scanpy/pyScenic/CTR/reg.csv')\n",
    "df_motifs_SPR = load_motifs('/mnt/gmi-analysis01/_90.User_Data/juhyunk/project/schizophrenia/scRNA/singleCellAnalysis_byLibrary/scvi_integrated/2023-01-18/scanpy/pyScenic/SPR/reg.csv')\n"
   ]
  },
  {
   "cell_type": "code",
   "execution_count": 5,
   "id": "40c8a88f-8400-4e19-975e-b9d1b4e02a1c",
   "metadata": {},
   "outputs": [],
   "source": [
    "geneSearch = [\"BST2\"]"
   ]
  },
  {
   "cell_type": "raw",
   "id": "8fb8a6a0-bf84-473b-94e4-e131355e19f3",
   "metadata": {},
   "source": [
    "df_motifs_SPR[(df_motifs_SPR.Enrichment.AUC > 0.5)].Enrichment.TargetGenes.reset_index()"
   ]
  },
  {
   "cell_type": "code",
   "execution_count": 6,
   "id": "6f31abe0-9503-487c-8c46-1ffea4aa7404",
   "metadata": {},
   "outputs": [
    {
     "data": {
      "text/html": [
       "<div>\n",
       "<style scoped>\n",
       "    .dataframe tbody tr th:only-of-type {\n",
       "        vertical-align: middle;\n",
       "    }\n",
       "\n",
       "    .dataframe tbody tr th {\n",
       "        vertical-align: top;\n",
       "    }\n",
       "\n",
       "    .dataframe thead th {\n",
       "        text-align: right;\n",
       "    }\n",
       "</style>\n",
       "<table border=\"1\" class=\"dataframe\">\n",
       "  <thead>\n",
       "    <tr style=\"text-align: right;\">\n",
       "      <th></th>\n",
       "      <th></th>\n",
       "      <th>TargetGenes</th>\n",
       "    </tr>\n",
       "    <tr>\n",
       "      <th>TF</th>\n",
       "      <th>MotifID</th>\n",
       "      <th></th>\n",
       "    </tr>\n",
       "  </thead>\n",
       "  <tbody>\n",
       "    <tr>\n",
       "      <th>IRF7</th>\n",
       "      <th>taipale_cyt_meth__IRF8_NYGAAASYGAAASYN_eDBD_meth</th>\n",
       "      <td>[(RELB, 0.4300508318123522), (ATF5, 1.20954572...</td>\n",
       "    </tr>\n",
       "    <tr>\n",
       "      <th>POLR2A</th>\n",
       "      <th>dbcorrdb__POLR2A__ENCSR000EAM_1__m1</th>\n",
       "      <td>[(CHD3, 0.93436185354114), (RELB, 4.5198854406...</td>\n",
       "    </tr>\n",
       "    <tr>\n",
       "      <th rowspan=\"2\" valign=\"top\">STAT1</th>\n",
       "      <th>cisbp__M1906</th>\n",
       "      <td>[(IGFBP5, 182.4809681458512), (ZBTB7B, 18.5208...</td>\n",
       "    </tr>\n",
       "    <tr>\n",
       "      <th>transfac_pro__M07045</th>\n",
       "      <td>[(IGF2BP1, 4.906179119307925), (JADE2, 10.4960...</td>\n",
       "    </tr>\n",
       "  </tbody>\n",
       "</table>\n",
       "</div>"
      ],
      "text/plain": [
       "                                                                                               TargetGenes\n",
       "TF     MotifID                                                                                            \n",
       "IRF7   taipale_cyt_meth__IRF8_NYGAAASYGAAASYN_eDBD_meth  [(RELB, 0.4300508318123522), (ATF5, 1.20954572...\n",
       "POLR2A dbcorrdb__POLR2A__ENCSR000EAM_1__m1               [(CHD3, 0.93436185354114), (RELB, 4.5198854406...\n",
       "STAT1  cisbp__M1906                                      [(IGFBP5, 182.4809681458512), (ZBTB7B, 18.5208...\n",
       "       transfac_pro__M07045                              [(IGF2BP1, 4.906179119307925), (JADE2, 10.4960..."
      ]
     },
     "execution_count": 6,
     "metadata": {},
     "output_type": "execute_result"
    }
   ],
   "source": [
    "# CTR\n",
    "indexTrue = pd.DataFrame(df_motifs_CTR.Enrichment.TargetGenes).apply(lambda row: row.astype(str).str.contains(geneSearch[0]).any(), axis=1)\n",
    "ctr_db = pd.DataFrame(df_motifs_CTR.Enrichment.TargetGenes)[indexTrue]\n",
    "ctr_db"
   ]
  },
  {
   "cell_type": "code",
   "execution_count": 4,
   "id": "53ee5c50-809f-442c-a02f-065cc49b56bc",
   "metadata": {},
   "outputs": [
    {
     "data": {
      "text/html": [
       "<div>\n",
       "<style scoped>\n",
       "    .dataframe tbody tr th:only-of-type {\n",
       "        vertical-align: middle;\n",
       "    }\n",
       "\n",
       "    .dataframe tbody tr th {\n",
       "        vertical-align: top;\n",
       "    }\n",
       "\n",
       "    .dataframe thead th {\n",
       "        text-align: right;\n",
       "    }\n",
       "</style>\n",
       "<table border=\"1\" class=\"dataframe\">\n",
       "  <thead>\n",
       "    <tr style=\"text-align: right;\">\n",
       "      <th></th>\n",
       "      <th></th>\n",
       "      <th>TargetGenes</th>\n",
       "      <th>TargetGenes_genename</th>\n",
       "    </tr>\n",
       "    <tr>\n",
       "      <th>TF</th>\n",
       "      <th>MotifID</th>\n",
       "      <th></th>\n",
       "      <th></th>\n",
       "    </tr>\n",
       "  </thead>\n",
       "  <tbody>\n",
       "    <tr>\n",
       "      <th>IRF7</th>\n",
       "      <th>taipale_cyt_meth__IRF8_NYGAAASYGAAASYN_eDBD_meth</th>\n",
       "      <td>[(RELB, 0.4300508318123522), (ATF5, 1.20954572...</td>\n",
       "      <td>[RELB, ATF5, TMED1, ZNF865, NECTIN2, ZHX1, DDA...</td>\n",
       "    </tr>\n",
       "    <tr>\n",
       "      <th>POLR2A</th>\n",
       "      <th>dbcorrdb__POLR2A__ENCSR000EAM_1__m1</th>\n",
       "      <td>[(CHD3, 0.93436185354114), (RELB, 4.5198854406...</td>\n",
       "      <td>[CHD3, RELB, MIDN, GLIS2, CCDC9, TMEM256, NLGN...</td>\n",
       "    </tr>\n",
       "    <tr>\n",
       "      <th rowspan=\"2\" valign=\"top\">STAT1</th>\n",
       "      <th>cisbp__M1906</th>\n",
       "      <td>[(IGFBP5, 182.4809681458512), (ZBTB7B, 18.5208...</td>\n",
       "      <td>[IGFBP5, ZBTB7B, HOXC6, SCN1B, RAB22A, GLIS2, ...</td>\n",
       "    </tr>\n",
       "    <tr>\n",
       "      <th>transfac_pro__M07045</th>\n",
       "      <td>[(IGF2BP1, 4.906179119307925), (JADE2, 10.4960...</td>\n",
       "      <td>[IGF2BP1, JADE2, IGFBP5, ZBTB7B, PEG3, HOXC6, ...</td>\n",
       "    </tr>\n",
       "  </tbody>\n",
       "</table>\n",
       "</div>"
      ],
      "text/plain": [
       "                                                                                               TargetGenes  \\\n",
       "TF     MotifID                                                                                               \n",
       "IRF7   taipale_cyt_meth__IRF8_NYGAAASYGAAASYN_eDBD_meth  [(RELB, 0.4300508318123522), (ATF5, 1.20954572...   \n",
       "POLR2A dbcorrdb__POLR2A__ENCSR000EAM_1__m1               [(CHD3, 0.93436185354114), (RELB, 4.5198854406...   \n",
       "STAT1  cisbp__M1906                                      [(IGFBP5, 182.4809681458512), (ZBTB7B, 18.5208...   \n",
       "       transfac_pro__M07045                              [(IGF2BP1, 4.906179119307925), (JADE2, 10.4960...   \n",
       "\n",
       "                                                                                      TargetGenes_genename  \n",
       "TF     MotifID                                                                                              \n",
       "IRF7   taipale_cyt_meth__IRF8_NYGAAASYGAAASYN_eDBD_meth  [RELB, ATF5, TMED1, ZNF865, NECTIN2, ZHX1, DDA...  \n",
       "POLR2A dbcorrdb__POLR2A__ENCSR000EAM_1__m1               [CHD3, RELB, MIDN, GLIS2, CCDC9, TMEM256, NLGN...  \n",
       "STAT1  cisbp__M1906                                      [IGFBP5, ZBTB7B, HOXC6, SCN1B, RAB22A, GLIS2, ...  \n",
       "       transfac_pro__M07045                              [IGF2BP1, JADE2, IGFBP5, ZBTB7B, PEG3, HOXC6, ...  "
      ]
     },
     "execution_count": 4,
     "metadata": {},
     "output_type": "execute_result"
    }
   ],
   "source": [
    "ctr_db['TargetGenes_genename'] = ctr_db['TargetGenes'].apply(lambda x: [tup[0] for tup in x])\n",
    "ctr_db"
   ]
  },
  {
   "cell_type": "code",
   "execution_count": 5,
   "id": "205a537f-adbf-42a1-8913-9b1bce96c99e",
   "metadata": {},
   "outputs": [],
   "source": [
    "ctr_db.to_csv('/mnt/gmi-storage/_1.USER_data/juhyunk/00.project/schizophrenia/ctr.bst2TF.GRM.txt', index=True)"
   ]
  },
  {
   "cell_type": "code",
   "execution_count": 6,
   "id": "658ae8ad-a896-4ad5-88d3-3487fb1cc530",
   "metadata": {},
   "outputs": [
    {
     "data": {
      "text/html": [
       "<div>\n",
       "<style scoped>\n",
       "    .dataframe tbody tr th:only-of-type {\n",
       "        vertical-align: middle;\n",
       "    }\n",
       "\n",
       "    .dataframe tbody tr th {\n",
       "        vertical-align: top;\n",
       "    }\n",
       "\n",
       "    .dataframe thead th {\n",
       "        text-align: right;\n",
       "    }\n",
       "</style>\n",
       "<table border=\"1\" class=\"dataframe\">\n",
       "  <thead>\n",
       "    <tr style=\"text-align: right;\">\n",
       "      <th></th>\n",
       "      <th></th>\n",
       "      <th>TargetGenes</th>\n",
       "    </tr>\n",
       "    <tr>\n",
       "      <th>TF</th>\n",
       "      <th>MotifID</th>\n",
       "      <th></th>\n",
       "    </tr>\n",
       "  </thead>\n",
       "  <tbody>\n",
       "    <tr>\n",
       "      <th rowspan=\"2\" valign=\"top\">SREBF2</th>\n",
       "      <th>dbcorrdb__ZNF384__ENCSR000EFP_1__m1</th>\n",
       "      <td>[(TNRC18, 1.7903934692642012), (EGR2, 2.528693...</td>\n",
       "    </tr>\n",
       "    <tr>\n",
       "      <th>dbcorrdb__RAD21__ENCSR000EHX_1__m6</th>\n",
       "      <td>[(GIGYF1, 3.5429328479274127), (APOLD1, 1.6784...</td>\n",
       "    </tr>\n",
       "  </tbody>\n",
       "</table>\n",
       "</div>"
      ],
      "text/plain": [
       "                                                                                  TargetGenes\n",
       "TF     MotifID                                                                               \n",
       "SREBF2 dbcorrdb__ZNF384__ENCSR000EFP_1__m1  [(TNRC18, 1.7903934692642012), (EGR2, 2.528693...\n",
       "       dbcorrdb__RAD21__ENCSR000EHX_1__m6   [(GIGYF1, 3.5429328479274127), (APOLD1, 1.6784..."
      ]
     },
     "execution_count": 6,
     "metadata": {},
     "output_type": "execute_result"
    }
   ],
   "source": [
    "# SPR \n",
    "indexTrue = pd.DataFrame(df_motifs_SPR.Enrichment.TargetGenes).apply(lambda row: row.astype(str).str.contains(geneSearch[0]).any(), axis=1)\n",
    "spr_db = pd.DataFrame(df_motifs_SPR.Enrichment.TargetGenes)[indexTrue]\n",
    "spr_db"
   ]
  },
  {
   "cell_type": "code",
   "execution_count": 63,
   "id": "8537325f-9aa8-4596-8794-c65acad4c011",
   "metadata": {},
   "outputs": [
    {
     "data": {
      "text/html": [
       "<div>\n",
       "<style scoped>\n",
       "    .dataframe tbody tr th:only-of-type {\n",
       "        vertical-align: middle;\n",
       "    }\n",
       "\n",
       "    .dataframe tbody tr th {\n",
       "        vertical-align: top;\n",
       "    }\n",
       "\n",
       "    .dataframe thead th {\n",
       "        text-align: right;\n",
       "    }\n",
       "</style>\n",
       "<table border=\"1\" class=\"dataframe\">\n",
       "  <thead>\n",
       "    <tr style=\"text-align: right;\">\n",
       "      <th></th>\n",
       "      <th></th>\n",
       "      <th>TargetGenes</th>\n",
       "    </tr>\n",
       "    <tr>\n",
       "      <th>TF</th>\n",
       "      <th>MotifID</th>\n",
       "      <th></th>\n",
       "    </tr>\n",
       "  </thead>\n",
       "  <tbody>\n",
       "    <tr>\n",
       "      <th rowspan=\"2\" valign=\"top\">SREBF2</th>\n",
       "      <th>dbcorrdb__ZNF384__ENCSR000EFP_1__m1</th>\n",
       "      <td>[(TNRC18, 1.7903934692642012), (EGR2, 2.528693...</td>\n",
       "    </tr>\n",
       "    <tr>\n",
       "      <th>dbcorrdb__RAD21__ENCSR000EHX_1__m6</th>\n",
       "      <td>[(GIGYF1, 3.5429328479274127), (APOLD1, 1.6784...</td>\n",
       "    </tr>\n",
       "  </tbody>\n",
       "</table>\n",
       "</div>"
      ],
      "text/plain": [
       "                                                                                  TargetGenes\n",
       "TF     MotifID                                                                               \n",
       "SREBF2 dbcorrdb__ZNF384__ENCSR000EFP_1__m1  [(TNRC18, 1.7903934692642012), (EGR2, 2.528693...\n",
       "       dbcorrdb__RAD21__ENCSR000EHX_1__m6   [(GIGYF1, 3.5429328479274127), (APOLD1, 1.6784..."
      ]
     },
     "execution_count": 63,
     "metadata": {},
     "output_type": "execute_result"
    }
   ],
   "source": [
    "# SPR \n",
    "indexTrue = pd.DataFrame(df_motifs_SPR.Enrichment.TargetGenes).apply(lambda row: row.astype(str).str.contains(geneSearch[0]).any(), axis=1)\n",
    "spr_db = pd.DataFrame(df_motifs_SPR.Enrichment.TargetGenes)[indexTrue]\n",
    "spr_db"
   ]
  },
  {
   "cell_type": "code",
   "execution_count": 71,
   "id": "fb430ac4-fc23-47ea-a257-e4cd1781d59c",
   "metadata": {},
   "outputs": [],
   "source": [
    "tf=\"IRF7\""
   ]
  },
  {
   "cell_type": "code",
   "execution_count": 72,
   "id": "788efaab-a919-4fd9-9f77-1dc321d941a1",
   "metadata": {},
   "outputs": [
    {
     "data": {
      "text/html": [
       "<div>\n",
       "<style scoped>\n",
       "    .dataframe tbody tr th:only-of-type {\n",
       "        vertical-align: middle;\n",
       "    }\n",
       "\n",
       "    .dataframe tbody tr th {\n",
       "        vertical-align: top;\n",
       "    }\n",
       "\n",
       "    .dataframe thead th {\n",
       "        text-align: right;\n",
       "    }\n",
       "</style>\n",
       "<table border=\"1\" class=\"dataframe\">\n",
       "  <thead>\n",
       "    <tr style=\"text-align: right;\">\n",
       "      <th></th>\n",
       "      <th></th>\n",
       "      <th>TargetGenes</th>\n",
       "      <th>TargetGenes_genename</th>\n",
       "    </tr>\n",
       "    <tr>\n",
       "      <th>TF</th>\n",
       "      <th>MotifID</th>\n",
       "      <th></th>\n",
       "      <th></th>\n",
       "    </tr>\n",
       "  </thead>\n",
       "  <tbody>\n",
       "    <tr>\n",
       "      <th rowspan=\"5\" valign=\"top\">IRF7</th>\n",
       "      <th>cisbp__M6314</th>\n",
       "      <td>[(RBMS3-AS3, 0.4765647639277575), (LZTS2, 0.42...</td>\n",
       "      <td>[RBMS3-AS3, LZTS2, C5orf56, USP18, RFX5, HERC6...</td>\n",
       "    </tr>\n",
       "    <tr>\n",
       "      <th>hocomoco__IRF9_HUMAN.H11MO.0.C</th>\n",
       "      <td>[(IRF1, 16.89897936814536), (ARMCX6, 0.6380013...</td>\n",
       "      <td>[IRF1, ARMCX6, C5orf56, POLR2A, ETV7, HES1, CC...</td>\n",
       "    </tr>\n",
       "    <tr>\n",
       "      <th>cisbp__M5572</th>\n",
       "      <td>[(C5orf56, 4.341726202877872), (USP18, 45.5730...</td>\n",
       "      <td>[C5orf56, USP18, AHDC1, ADGRB2, DTX3L, PSMA3, ...</td>\n",
       "    </tr>\n",
       "    <tr>\n",
       "      <th>taipale__IRF3_full_NNRRAAAGGAAACCGAAACTN_repr</th>\n",
       "      <td>[(DTX3L, 3.356742556793732), (PARP9, 1.7071790...</td>\n",
       "      <td>[DTX3L, PARP9, IRF1, RTP4, RNF213, PARP12, USP...</td>\n",
       "    </tr>\n",
       "    <tr>\n",
       "      <th>taipale_cyt_meth__IRF5_NYGAAACCGAAACY_FL_meth</th>\n",
       "      <td>[(HERC6, 11.173666113452905), (IRF1, 16.898979...</td>\n",
       "      <td>[HERC6, IRF1, USP18, MX1, PML, XAF1, EPSTI1, A...</td>\n",
       "    </tr>\n",
       "  </tbody>\n",
       "</table>\n",
       "</div>"
      ],
      "text/plain": [
       "                                                                                          TargetGenes  \\\n",
       "TF   MotifID                                                                                            \n",
       "IRF7 cisbp__M6314                                   [(RBMS3-AS3, 0.4765647639277575), (LZTS2, 0.42...   \n",
       "     hocomoco__IRF9_HUMAN.H11MO.0.C                 [(IRF1, 16.89897936814536), (ARMCX6, 0.6380013...   \n",
       "     cisbp__M5572                                   [(C5orf56, 4.341726202877872), (USP18, 45.5730...   \n",
       "     taipale__IRF3_full_NNRRAAAGGAAACCGAAACTN_repr  [(DTX3L, 3.356742556793732), (PARP9, 1.7071790...   \n",
       "     taipale_cyt_meth__IRF5_NYGAAACCGAAACY_FL_meth  [(HERC6, 11.173666113452905), (IRF1, 16.898979...   \n",
       "\n",
       "                                                                                 TargetGenes_genename  \n",
       "TF   MotifID                                                                                           \n",
       "IRF7 cisbp__M6314                                   [RBMS3-AS3, LZTS2, C5orf56, USP18, RFX5, HERC6...  \n",
       "     hocomoco__IRF9_HUMAN.H11MO.0.C                 [IRF1, ARMCX6, C5orf56, POLR2A, ETV7, HES1, CC...  \n",
       "     cisbp__M5572                                   [C5orf56, USP18, AHDC1, ADGRB2, DTX3L, PSMA3, ...  \n",
       "     taipale__IRF3_full_NNRRAAAGGAAACCGAAACTN_repr  [DTX3L, PARP9, IRF1, RTP4, RNF213, PARP12, USP...  \n",
       "     taipale_cyt_meth__IRF5_NYGAAACCGAAACY_FL_meth  [HERC6, IRF1, USP18, MX1, PML, XAF1, EPSTI1, A...  "
      ]
     },
     "execution_count": 72,
     "metadata": {},
     "output_type": "execute_result"
    }
   ],
   "source": [
    "tab = pd.DataFrame(df_motifs_CTR.loc[[(tf)]].Enrichment.TargetGenes)\n",
    "tab['TargetGenes_genename'] = tab['TargetGenes'].apply(lambda x: [tup[0] for tup in x])\n",
    "tab.head()"
   ]
  },
  {
   "cell_type": "code",
   "execution_count": 73,
   "id": "09d95a4a-98a1-4fa1-b749-d74ca59a2378",
   "metadata": {},
   "outputs": [],
   "source": [
    "tab.to_csv('/mnt/gmi-storage/_1.USER_data/juhyunk/00.project/schizophrenia/TF_'+tf+'.inCTR.GRM.txt', index=True)"
   ]
  },
  {
   "cell_type": "code",
   "execution_count": 74,
   "id": "fc33fbdb-37b6-481f-bace-59ccc8629dcf",
   "metadata": {},
   "outputs": [
    {
     "data": {
      "text/html": [
       "<div>\n",
       "<style scoped>\n",
       "    .dataframe tbody tr th:only-of-type {\n",
       "        vertical-align: middle;\n",
       "    }\n",
       "\n",
       "    .dataframe tbody tr th {\n",
       "        vertical-align: top;\n",
       "    }\n",
       "\n",
       "    .dataframe thead th {\n",
       "        text-align: right;\n",
       "    }\n",
       "</style>\n",
       "<table border=\"1\" class=\"dataframe\">\n",
       "  <thead>\n",
       "    <tr style=\"text-align: right;\">\n",
       "      <th></th>\n",
       "      <th></th>\n",
       "      <th>TargetGenes</th>\n",
       "      <th>TargetGenes_genename</th>\n",
       "    </tr>\n",
       "    <tr>\n",
       "      <th>TF</th>\n",
       "      <th>MotifID</th>\n",
       "      <th></th>\n",
       "      <th></th>\n",
       "    </tr>\n",
       "  </thead>\n",
       "  <tbody>\n",
       "    <tr>\n",
       "      <th rowspan=\"5\" valign=\"top\">IRF7</th>\n",
       "      <th>cisbp__M6314</th>\n",
       "      <td>[(NEURL2, 1.0311171428785286), (VPS11, 1.54651...</td>\n",
       "      <td>[NEURL2, VPS11, CLN3, MCOLN1, LACTB2, NR1D1, C...</td>\n",
       "    </tr>\n",
       "    <tr>\n",
       "      <th>hocomoco__IRF9_HUMAN.H11MO.0.C</th>\n",
       "      <td>[(IRF2, 5.849119302801381), (C5orf56, 0.946861...</td>\n",
       "      <td>[IRF2, C5orf56, USP18, HERC6, ZNFX1, RTP4, OAS...</td>\n",
       "    </tr>\n",
       "    <tr>\n",
       "      <th>cisbp__M5572</th>\n",
       "      <td>[(IRF1, 0.4190555691943377), (IRF2, 5.84911930...</td>\n",
       "      <td>[IRF1, IRF2, C5orf56, IRF9, MLKL, IFIT2, RNF21...</td>\n",
       "    </tr>\n",
       "    <tr>\n",
       "      <th>taipale__IRF3_full_NNRRAAAGGAAACCGAAACTN_repr</th>\n",
       "      <td>[(C5orf56, 0.946861924231061), (USP18, 33.5096...</td>\n",
       "      <td>[C5orf56, USP18, DTX3L, NMI, PARP9, ISG15, IRF...</td>\n",
       "    </tr>\n",
       "    <tr>\n",
       "      <th>taipale_cyt_meth__IRF5_NYGAAACCGAAACY_FL_meth</th>\n",
       "      <td>[(DTX3L, 5.554685055051111), (PARP9, 9.5432494...</td>\n",
       "      <td>[DTX3L, PARP9, IRF1, RTP4, RNF213, PARP12, USP...</td>\n",
       "    </tr>\n",
       "  </tbody>\n",
       "</table>\n",
       "</div>"
      ],
      "text/plain": [
       "                                                                                          TargetGenes  \\\n",
       "TF   MotifID                                                                                            \n",
       "IRF7 cisbp__M6314                                   [(NEURL2, 1.0311171428785286), (VPS11, 1.54651...   \n",
       "     hocomoco__IRF9_HUMAN.H11MO.0.C                 [(IRF2, 5.849119302801381), (C5orf56, 0.946861...   \n",
       "     cisbp__M5572                                   [(IRF1, 0.4190555691943377), (IRF2, 5.84911930...   \n",
       "     taipale__IRF3_full_NNRRAAAGGAAACCGAAACTN_repr  [(C5orf56, 0.946861924231061), (USP18, 33.5096...   \n",
       "     taipale_cyt_meth__IRF5_NYGAAACCGAAACY_FL_meth  [(DTX3L, 5.554685055051111), (PARP9, 9.5432494...   \n",
       "\n",
       "                                                                                 TargetGenes_genename  \n",
       "TF   MotifID                                                                                           \n",
       "IRF7 cisbp__M6314                                   [NEURL2, VPS11, CLN3, MCOLN1, LACTB2, NR1D1, C...  \n",
       "     hocomoco__IRF9_HUMAN.H11MO.0.C                 [IRF2, C5orf56, USP18, HERC6, ZNFX1, RTP4, OAS...  \n",
       "     cisbp__M5572                                   [IRF1, IRF2, C5orf56, IRF9, MLKL, IFIT2, RNF21...  \n",
       "     taipale__IRF3_full_NNRRAAAGGAAACCGAAACTN_repr  [C5orf56, USP18, DTX3L, NMI, PARP9, ISG15, IRF...  \n",
       "     taipale_cyt_meth__IRF5_NYGAAACCGAAACY_FL_meth  [DTX3L, PARP9, IRF1, RTP4, RNF213, PARP12, USP...  "
      ]
     },
     "execution_count": 74,
     "metadata": {},
     "output_type": "execute_result"
    }
   ],
   "source": [
    "tab = pd.DataFrame(df_motifs_SPR.loc[[(tf)]].Enrichment.TargetGenes)\n",
    "tab['TargetGenes_genename'] = tab['TargetGenes'].apply(lambda x: [tup[0] for tup in x])\n",
    "tab.head()"
   ]
  },
  {
   "cell_type": "code",
   "execution_count": 75,
   "id": "047fe0ec-2fca-4682-9c92-193d2bd1bb44",
   "metadata": {},
   "outputs": [],
   "source": [
    "tab.to_csv('/mnt/gmi-storage/_1.USER_data/juhyunk/00.project/schizophrenia/TF_'+tf+'.inSPR.GRM.txt', index=True)"
   ]
  },
  {
   "cell_type": "code",
   "execution_count": null,
   "id": "8675def4-24b9-439b-81ca-75de0697c5f6",
   "metadata": {},
   "outputs": [],
   "source": [
    "# SPR\n",
    "tab = pd.DataFrame(df_motifs_SPR.Enrichment.TargetGenes)\n",
    "spr_db = pd.DataFrame(df_motifs_SPR.Enrichment.TargetGenes)[indexTrue]\n",
    "spr_db"
   ]
  },
  {
   "cell_type": "code",
   "execution_count": null,
   "id": "8ae54597-774b-4e77-af69-5897c60e002f",
   "metadata": {},
   "outputs": [],
   "source": [
    "# SPR \n",
    "indexTrue = pd.DataFrame(df_motifs_SPR.Enrichment.TargetGenes).apply(lambda row: row.astype(str).str.contains(geneSearch[0]).any(), axis=1)\n",
    "spr_db = pd.DataFrame(df_motifs_SPR.Enrichment.TargetGenes)[indexTrue]\n",
    "spr_db"
   ]
  },
  {
   "cell_type": "code",
   "execution_count": 7,
   "id": "9e2f5373-ea49-42ff-910d-4382e54724b8",
   "metadata": {},
   "outputs": [
    {
     "data": {
      "text/html": [
       "<div>\n",
       "<style scoped>\n",
       "    .dataframe tbody tr th:only-of-type {\n",
       "        vertical-align: middle;\n",
       "    }\n",
       "\n",
       "    .dataframe tbody tr th {\n",
       "        vertical-align: top;\n",
       "    }\n",
       "\n",
       "    .dataframe thead th {\n",
       "        text-align: right;\n",
       "    }\n",
       "</style>\n",
       "<table border=\"1\" class=\"dataframe\">\n",
       "  <thead>\n",
       "    <tr style=\"text-align: right;\">\n",
       "      <th></th>\n",
       "      <th></th>\n",
       "      <th>TargetGenes</th>\n",
       "      <th>TargetGenes_genename</th>\n",
       "    </tr>\n",
       "    <tr>\n",
       "      <th>TF</th>\n",
       "      <th>MotifID</th>\n",
       "      <th></th>\n",
       "      <th></th>\n",
       "    </tr>\n",
       "  </thead>\n",
       "  <tbody>\n",
       "    <tr>\n",
       "      <th rowspan=\"2\" valign=\"top\">SREBF2</th>\n",
       "      <th>dbcorrdb__ZNF384__ENCSR000EFP_1__m1</th>\n",
       "      <td>[(TNRC18, 1.7903934692642012), (EGR2, 2.528693...</td>\n",
       "      <td>[TNRC18, EGR2, KIRREL3, PDPR, TCF7L2, FAM53B, ...</td>\n",
       "    </tr>\n",
       "    <tr>\n",
       "      <th>dbcorrdb__RAD21__ENCSR000EHX_1__m6</th>\n",
       "      <td>[(GIGYF1, 3.5429328479274127), (APOLD1, 1.6784...</td>\n",
       "      <td>[GIGYF1, APOLD1, PHACTR4, FAM222B, TNRC18, TCF...</td>\n",
       "    </tr>\n",
       "  </tbody>\n",
       "</table>\n",
       "</div>"
      ],
      "text/plain": [
       "                                                                                  TargetGenes  \\\n",
       "TF     MotifID                                                                                  \n",
       "SREBF2 dbcorrdb__ZNF384__ENCSR000EFP_1__m1  [(TNRC18, 1.7903934692642012), (EGR2, 2.528693...   \n",
       "       dbcorrdb__RAD21__ENCSR000EHX_1__m6   [(GIGYF1, 3.5429328479274127), (APOLD1, 1.6784...   \n",
       "\n",
       "                                                                         TargetGenes_genename  \n",
       "TF     MotifID                                                                                 \n",
       "SREBF2 dbcorrdb__ZNF384__ENCSR000EFP_1__m1  [TNRC18, EGR2, KIRREL3, PDPR, TCF7L2, FAM53B, ...  \n",
       "       dbcorrdb__RAD21__ENCSR000EHX_1__m6   [GIGYF1, APOLD1, PHACTR4, FAM222B, TNRC18, TCF...  "
      ]
     },
     "execution_count": 7,
     "metadata": {},
     "output_type": "execute_result"
    }
   ],
   "source": [
    "spr_db['TargetGenes_genename'] = spr_db['TargetGenes'].apply(lambda x: [tup[0] for tup in x])\n",
    "spr_db"
   ]
  },
  {
   "cell_type": "code",
   "execution_count": null,
   "id": "2713e98d-323e-4046-b7c8-2c56b264140c",
   "metadata": {},
   "outputs": [],
   "source": [
    "spr_db['TargetGenes_genename'] = spr_db['TargetGenes'].apply(lambda x: [tup[0] for tup in x])\n",
    "spr_db"
   ]
  },
  {
   "cell_type": "code",
   "execution_count": 14,
   "id": "51bad7ad-31c7-4f6d-934f-1bb1b4f7921a",
   "metadata": {},
   "outputs": [],
   "source": [
    "spr_db.to_csv('/mnt/gmi-storage/_1.USER_data/juhyunk/00.project/schizophrenia/spr.bst2TF.GRM.txt', index=True)"
   ]
  },
  {
   "cell_type": "code",
   "execution_count": 69,
   "id": "720894cf-f47d-4f07-84fe-975bb7502fe3",
   "metadata": {},
   "outputs": [
    {
     "ename": "InvalidIndexError",
     "evalue": "(slice(None, None, None), TF      MotifID                           \nARID3A  homer__DATGASTCATHN_Atf3              False\n        tfdimers__MD00454                     False\nATF3    cisbp__M6160                          False\n        yetfasco__YER045C_8                   False\n        transfac_public__M00017               False\n                                              ...  \nYY1     factorbook__YY1                       False\nZBTB7A  dbcorrdb__RBBP5__ENCSR000AQC_1__m5    False\n        cisbp__M6480                          False\n        dbcorrdb__MXI1__ENCSR000EIA_1__m4     False\n        dbcorrdb__EZH2__ENCSR000ARK_1__m4     False\nName: AUC, Length: 7691, dtype: bool)",
     "output_type": "error",
     "traceback": [
      "\u001b[0;31m---------------------------------------------------------------------------\u001b[0m",
      "\u001b[0;31mInvalidIndexError\u001b[0m                         Traceback (most recent call last)",
      "Cell \u001b[0;32mIn [69], line 1\u001b[0m\n\u001b[0;32m----> 1\u001b[0m \u001b[43mdf_motifs_SPR\u001b[49m\u001b[38;5;241;43m.\u001b[39;49m\u001b[43mloc\u001b[49m\u001b[43m[\u001b[49m\u001b[38;5;124;43m'\u001b[39;49m\u001b[38;5;124;43mSREBF2\u001b[39;49m\u001b[38;5;124;43m'\u001b[39;49m\u001b[43m]\u001b[49m\u001b[43m[\u001b[49m\u001b[43m:\u001b[49m\u001b[43m,\u001b[49m\u001b[43mdf_motifs_SPR\u001b[49m\u001b[38;5;241;43m.\u001b[39;49m\u001b[43mEnrichment\u001b[49m\u001b[38;5;241;43m.\u001b[39;49m\u001b[43mAUC\u001b[49m\u001b[43m \u001b[49m\u001b[38;5;241;43m>\u001b[39;49m\u001b[43m \u001b[49m\u001b[38;5;241;43m.5\u001b[39;49m\u001b[43m]\u001b[49m\n",
      "File \u001b[0;32m~/anaconda3/envs/pyscenic/lib/python3.10/site-packages/pandas/core/frame.py:3504\u001b[0m, in \u001b[0;36mDataFrame.__getitem__\u001b[0;34m(self, key)\u001b[0m\n\u001b[1;32m   3502\u001b[0m \u001b[38;5;28;01mif\u001b[39;00m is_single_key:\n\u001b[1;32m   3503\u001b[0m     \u001b[38;5;28;01mif\u001b[39;00m \u001b[38;5;28mself\u001b[39m\u001b[38;5;241m.\u001b[39mcolumns\u001b[38;5;241m.\u001b[39mnlevels \u001b[38;5;241m>\u001b[39m \u001b[38;5;241m1\u001b[39m:\n\u001b[0;32m-> 3504\u001b[0m         \u001b[38;5;28;01mreturn\u001b[39;00m \u001b[38;5;28;43mself\u001b[39;49m\u001b[38;5;241;43m.\u001b[39;49m\u001b[43m_getitem_multilevel\u001b[49m\u001b[43m(\u001b[49m\u001b[43mkey\u001b[49m\u001b[43m)\u001b[49m\n\u001b[1;32m   3505\u001b[0m     indexer \u001b[38;5;241m=\u001b[39m \u001b[38;5;28mself\u001b[39m\u001b[38;5;241m.\u001b[39mcolumns\u001b[38;5;241m.\u001b[39mget_loc(key)\n\u001b[1;32m   3506\u001b[0m     \u001b[38;5;28;01mif\u001b[39;00m is_integer(indexer):\n",
      "File \u001b[0;32m~/anaconda3/envs/pyscenic/lib/python3.10/site-packages/pandas/core/frame.py:3555\u001b[0m, in \u001b[0;36mDataFrame._getitem_multilevel\u001b[0;34m(self, key)\u001b[0m\n\u001b[1;32m   3553\u001b[0m \u001b[38;5;28;01mdef\u001b[39;00m \u001b[38;5;21m_getitem_multilevel\u001b[39m(\u001b[38;5;28mself\u001b[39m, key):\n\u001b[1;32m   3554\u001b[0m     \u001b[38;5;66;03m# self.columns is a MultiIndex\u001b[39;00m\n\u001b[0;32m-> 3555\u001b[0m     loc \u001b[38;5;241m=\u001b[39m \u001b[38;5;28;43mself\u001b[39;49m\u001b[38;5;241;43m.\u001b[39;49m\u001b[43mcolumns\u001b[49m\u001b[38;5;241;43m.\u001b[39;49m\u001b[43mget_loc\u001b[49m\u001b[43m(\u001b[49m\u001b[43mkey\u001b[49m\u001b[43m)\u001b[49m\n\u001b[1;32m   3556\u001b[0m     \u001b[38;5;28;01mif\u001b[39;00m \u001b[38;5;28misinstance\u001b[39m(loc, (\u001b[38;5;28mslice\u001b[39m, np\u001b[38;5;241m.\u001b[39mndarray)):\n\u001b[1;32m   3557\u001b[0m         new_columns \u001b[38;5;241m=\u001b[39m \u001b[38;5;28mself\u001b[39m\u001b[38;5;241m.\u001b[39mcolumns[loc]\n",
      "File \u001b[0;32m~/anaconda3/envs/pyscenic/lib/python3.10/site-packages/pandas/core/indexes/multi.py:2852\u001b[0m, in \u001b[0;36mMultiIndex.get_loc\u001b[0;34m(self, key, method)\u001b[0m\n\u001b[1;32m   2846\u001b[0m \u001b[38;5;28;01mif\u001b[39;00m method \u001b[38;5;129;01mis\u001b[39;00m \u001b[38;5;129;01mnot\u001b[39;00m \u001b[38;5;28;01mNone\u001b[39;00m:\n\u001b[1;32m   2847\u001b[0m     \u001b[38;5;28;01mraise\u001b[39;00m \u001b[38;5;167;01mNotImplementedError\u001b[39;00m(\n\u001b[1;32m   2848\u001b[0m         \u001b[38;5;124m\"\u001b[39m\u001b[38;5;124monly the default get_loc method is \u001b[39m\u001b[38;5;124m\"\u001b[39m\n\u001b[1;32m   2849\u001b[0m         \u001b[38;5;124m\"\u001b[39m\u001b[38;5;124mcurrently supported for MultiIndex\u001b[39m\u001b[38;5;124m\"\u001b[39m\n\u001b[1;32m   2850\u001b[0m     )\n\u001b[0;32m-> 2852\u001b[0m \u001b[38;5;28;43mself\u001b[39;49m\u001b[38;5;241;43m.\u001b[39;49m\u001b[43m_check_indexing_error\u001b[49m\u001b[43m(\u001b[49m\u001b[43mkey\u001b[49m\u001b[43m)\u001b[49m\n\u001b[1;32m   2854\u001b[0m \u001b[38;5;28;01mdef\u001b[39;00m \u001b[38;5;21m_maybe_to_slice\u001b[39m(loc):\n\u001b[1;32m   2855\u001b[0m     \u001b[38;5;124;03m\"\"\"convert integer indexer to boolean mask or slice if possible\"\"\"\u001b[39;00m\n",
      "File \u001b[0;32m~/anaconda3/envs/pyscenic/lib/python3.10/site-packages/pandas/core/indexes/multi.py:2546\u001b[0m, in \u001b[0;36mMultiIndex._check_indexing_error\u001b[0;34m(self, key)\u001b[0m\n\u001b[1;32m   2541\u001b[0m \u001b[38;5;28;01mdef\u001b[39;00m \u001b[38;5;21m_check_indexing_error\u001b[39m(\u001b[38;5;28mself\u001b[39m, key) \u001b[38;5;241m-\u001b[39m\u001b[38;5;241m>\u001b[39m \u001b[38;5;28;01mNone\u001b[39;00m:\n\u001b[1;32m   2542\u001b[0m     \u001b[38;5;28;01mif\u001b[39;00m \u001b[38;5;129;01mnot\u001b[39;00m is_hashable(key) \u001b[38;5;129;01mor\u001b[39;00m is_iterator(key):\n\u001b[1;32m   2543\u001b[0m         \u001b[38;5;66;03m# We allow tuples if they are hashable, whereas other Index\u001b[39;00m\n\u001b[1;32m   2544\u001b[0m         \u001b[38;5;66;03m#  subclasses require scalar.\u001b[39;00m\n\u001b[1;32m   2545\u001b[0m         \u001b[38;5;66;03m# We have to explicitly exclude generators, as these are hashable.\u001b[39;00m\n\u001b[0;32m-> 2546\u001b[0m         \u001b[38;5;28;01mraise\u001b[39;00m InvalidIndexError(key)\n",
      "\u001b[0;31mInvalidIndexError\u001b[0m: (slice(None, None, None), TF      MotifID                           \nARID3A  homer__DATGASTCATHN_Atf3              False\n        tfdimers__MD00454                     False\nATF3    cisbp__M6160                          False\n        yetfasco__YER045C_8                   False\n        transfac_public__M00017               False\n                                              ...  \nYY1     factorbook__YY1                       False\nZBTB7A  dbcorrdb__RBBP5__ENCSR000AQC_1__m5    False\n        cisbp__M6480                          False\n        dbcorrdb__MXI1__ENCSR000EIA_1__m4     False\n        dbcorrdb__EZH2__ENCSR000ARK_1__m4     False\nName: AUC, Length: 7691, dtype: bool)"
     ]
    }
   ],
   "source": [
    "df_motifs_SPR.loc['SREBF2'][:,df_motifs_SPR.Enrichment.AUC > .5]"
   ]
  },
  {
   "cell_type": "code",
   "execution_count": 77,
   "id": "19289c82-6da5-4922-b4d7-6339ad83bbb2",
   "metadata": {},
   "outputs": [
    {
     "ename": "KeyError",
     "evalue": "('SREBF2',)",
     "output_type": "error",
     "traceback": [
      "\u001b[0;31m---------------------------------------------------------------------------\u001b[0m",
      "\u001b[0;31mKeyError\u001b[0m                                  Traceback (most recent call last)",
      "File \u001b[0;32m~/anaconda3/envs/pyscenic/lib/python3.10/site-packages/pandas/core/series.py:964\u001b[0m, in \u001b[0;36mSeries.__getitem__\u001b[0;34m(self, key)\u001b[0m\n\u001b[1;32m    962\u001b[0m \u001b[38;5;28;01mtry\u001b[39;00m:\n\u001b[1;32m    963\u001b[0m     \u001b[38;5;66;03m# For labels that don't resolve as scalars like tuples and frozensets\u001b[39;00m\n\u001b[0;32m--> 964\u001b[0m     result \u001b[38;5;241m=\u001b[39m \u001b[38;5;28;43mself\u001b[39;49m\u001b[38;5;241;43m.\u001b[39;49m\u001b[43m_get_value\u001b[49m\u001b[43m(\u001b[49m\u001b[43mkey\u001b[49m\u001b[43m)\u001b[49m\n\u001b[1;32m    966\u001b[0m     \u001b[38;5;28;01mreturn\u001b[39;00m result\n",
      "File \u001b[0;32m~/anaconda3/envs/pyscenic/lib/python3.10/site-packages/pandas/core/series.py:1069\u001b[0m, in \u001b[0;36mSeries._get_value\u001b[0;34m(self, label, takeable)\u001b[0m\n\u001b[1;32m   1068\u001b[0m \u001b[38;5;66;03m# Similar to Index.get_value, but we do not fall back to positional\u001b[39;00m\n\u001b[0;32m-> 1069\u001b[0m loc \u001b[38;5;241m=\u001b[39m \u001b[38;5;28;43mself\u001b[39;49m\u001b[38;5;241;43m.\u001b[39;49m\u001b[43mindex\u001b[49m\u001b[38;5;241;43m.\u001b[39;49m\u001b[43mget_loc\u001b[49m\u001b[43m(\u001b[49m\u001b[43mlabel\u001b[49m\u001b[43m)\u001b[49m\n\u001b[1;32m   1070\u001b[0m \u001b[38;5;28;01mreturn\u001b[39;00m \u001b[38;5;28mself\u001b[39m\u001b[38;5;241m.\u001b[39mindex\u001b[38;5;241m.\u001b[39m_get_values_for_loc(\u001b[38;5;28mself\u001b[39m, loc, label)\n",
      "File \u001b[0;32m~/anaconda3/envs/pyscenic/lib/python3.10/site-packages/pandas/core/indexes/multi.py:2905\u001b[0m, in \u001b[0;36mMultiIndex.get_loc\u001b[0;34m(self, key, method)\u001b[0m\n\u001b[1;32m   2904\u001b[0m \u001b[38;5;28;01mif\u001b[39;00m start \u001b[38;5;241m==\u001b[39m stop:\n\u001b[0;32m-> 2905\u001b[0m     \u001b[38;5;28;01mraise\u001b[39;00m \u001b[38;5;167;01mKeyError\u001b[39;00m(key)\n\u001b[1;32m   2907\u001b[0m \u001b[38;5;28;01mif\u001b[39;00m \u001b[38;5;129;01mnot\u001b[39;00m follow_key:\n",
      "\u001b[0;31mKeyError\u001b[0m: ('SREBF2',)",
      "\nDuring handling of the above exception, another exception occurred:\n",
      "\u001b[0;31mKeyError\u001b[0m                                  Traceback (most recent call last)",
      "Cell \u001b[0;32mIn [77], line 1\u001b[0m\n\u001b[0;32m----> 1\u001b[0m \u001b[43mdf_motifs_SPR\u001b[49m\u001b[43m[\u001b[49m\u001b[43m(\u001b[49m\u001b[43mdf_motifs_SPR\u001b[49m\u001b[38;5;241;43m.\u001b[39;49m\u001b[43mEnrichment\u001b[49m\u001b[38;5;241;43m.\u001b[39;49m\u001b[43mAUC\u001b[49m\u001b[43m \u001b[49m\u001b[38;5;241;43m>\u001b[39;49m\u001b[43m \u001b[49m\u001b[38;5;241;43m0.5\u001b[39;49m\u001b[43m)\u001b[49m\u001b[43m]\u001b[49m\u001b[38;5;241;43m.\u001b[39;49m\u001b[43mEnrichment\u001b[49m\u001b[38;5;241;43m.\u001b[39;49m\u001b[43mTargetGenes\u001b[49m\u001b[43m[\u001b[49m\u001b[38;5;124;43m'\u001b[39;49m\u001b[38;5;124;43mSREBF2\u001b[39;49m\u001b[38;5;124;43m'\u001b[39;49m\u001b[43m,\u001b[49m\u001b[43m]\u001b[49m\n",
      "File \u001b[0;32m~/anaconda3/envs/pyscenic/lib/python3.10/site-packages/pandas/core/series.py:974\u001b[0m, in \u001b[0;36mSeries.__getitem__\u001b[0;34m(self, key)\u001b[0m\n\u001b[1;32m    968\u001b[0m     \u001b[38;5;28;01mexcept\u001b[39;00m (\u001b[38;5;167;01mKeyError\u001b[39;00m, \u001b[38;5;167;01mTypeError\u001b[39;00m, InvalidIndexError):\n\u001b[1;32m    969\u001b[0m         \u001b[38;5;66;03m# InvalidIndexError for e.g. generator\u001b[39;00m\n\u001b[1;32m    970\u001b[0m         \u001b[38;5;66;03m#  see test_series_getitem_corner_generator\u001b[39;00m\n\u001b[1;32m    971\u001b[0m         \u001b[38;5;28;01mif\u001b[39;00m \u001b[38;5;28misinstance\u001b[39m(key, \u001b[38;5;28mtuple\u001b[39m) \u001b[38;5;129;01mand\u001b[39;00m \u001b[38;5;28misinstance\u001b[39m(\u001b[38;5;28mself\u001b[39m\u001b[38;5;241m.\u001b[39mindex, MultiIndex):\n\u001b[1;32m    972\u001b[0m             \u001b[38;5;66;03m# We still have the corner case where a tuple is a key\u001b[39;00m\n\u001b[1;32m    973\u001b[0m             \u001b[38;5;66;03m# in the first level of our MultiIndex\u001b[39;00m\n\u001b[0;32m--> 974\u001b[0m             \u001b[38;5;28;01mreturn\u001b[39;00m \u001b[38;5;28;43mself\u001b[39;49m\u001b[38;5;241;43m.\u001b[39;49m\u001b[43m_get_values_tuple\u001b[49m\u001b[43m(\u001b[49m\u001b[43mkey\u001b[49m\u001b[43m)\u001b[49m\n\u001b[1;32m    976\u001b[0m \u001b[38;5;28;01mif\u001b[39;00m is_iterator(key):\n\u001b[1;32m    977\u001b[0m     key \u001b[38;5;241m=\u001b[39m \u001b[38;5;28mlist\u001b[39m(key)\n",
      "File \u001b[0;32m~/anaconda3/envs/pyscenic/lib/python3.10/site-packages/pandas/core/series.py:1037\u001b[0m, in \u001b[0;36mSeries._get_values_tuple\u001b[0;34m(self, key)\u001b[0m\n\u001b[1;32m   1034\u001b[0m     \u001b[38;5;28;01mraise\u001b[39;00m \u001b[38;5;167;01mKeyError\u001b[39;00m(\u001b[38;5;124m\"\u001b[39m\u001b[38;5;124mkey of type tuple not found and not a MultiIndex\u001b[39m\u001b[38;5;124m\"\u001b[39m)\n\u001b[1;32m   1036\u001b[0m \u001b[38;5;66;03m# If key is contained, would have returned by now\u001b[39;00m\n\u001b[0;32m-> 1037\u001b[0m indexer, new_index \u001b[38;5;241m=\u001b[39m \u001b[38;5;28;43mself\u001b[39;49m\u001b[38;5;241;43m.\u001b[39;49m\u001b[43mindex\u001b[49m\u001b[38;5;241;43m.\u001b[39;49m\u001b[43mget_loc_level\u001b[49m\u001b[43m(\u001b[49m\u001b[43mkey\u001b[49m\u001b[43m)\u001b[49m\n\u001b[1;32m   1038\u001b[0m \u001b[38;5;28;01mreturn\u001b[39;00m \u001b[38;5;28mself\u001b[39m\u001b[38;5;241m.\u001b[39m_constructor(\u001b[38;5;28mself\u001b[39m\u001b[38;5;241m.\u001b[39m_values[indexer], index\u001b[38;5;241m=\u001b[39mnew_index)\u001b[38;5;241m.\u001b[39m__finalize__(\n\u001b[1;32m   1039\u001b[0m     \u001b[38;5;28mself\u001b[39m\n\u001b[1;32m   1040\u001b[0m )\n",
      "File \u001b[0;32m~/anaconda3/envs/pyscenic/lib/python3.10/site-packages/pandas/core/indexes/multi.py:2972\u001b[0m, in \u001b[0;36mMultiIndex.get_loc_level\u001b[0;34m(self, key, level, drop_level)\u001b[0m\n\u001b[1;32m   2969\u001b[0m \u001b[38;5;28;01melse\u001b[39;00m:\n\u001b[1;32m   2970\u001b[0m     level \u001b[38;5;241m=\u001b[39m [\u001b[38;5;28mself\u001b[39m\u001b[38;5;241m.\u001b[39m_get_level_number(lev) \u001b[38;5;28;01mfor\u001b[39;00m lev \u001b[38;5;129;01min\u001b[39;00m level]\n\u001b[0;32m-> 2972\u001b[0m loc, mi \u001b[38;5;241m=\u001b[39m \u001b[38;5;28;43mself\u001b[39;49m\u001b[38;5;241;43m.\u001b[39;49m\u001b[43m_get_loc_level\u001b[49m\u001b[43m(\u001b[49m\u001b[43mkey\u001b[49m\u001b[43m,\u001b[49m\u001b[43m \u001b[49m\u001b[43mlevel\u001b[49m\u001b[38;5;241;43m=\u001b[39;49m\u001b[43mlevel\u001b[49m\u001b[43m)\u001b[49m\n\u001b[1;32m   2973\u001b[0m \u001b[38;5;28;01mif\u001b[39;00m \u001b[38;5;129;01mnot\u001b[39;00m drop_level:\n\u001b[1;32m   2974\u001b[0m     \u001b[38;5;28;01mif\u001b[39;00m lib\u001b[38;5;241m.\u001b[39mis_integer(loc):\n",
      "File \u001b[0;32m~/anaconda3/envs/pyscenic/lib/python3.10/site-packages/pandas/core/indexes/multi.py:3052\u001b[0m, in \u001b[0;36mMultiIndex._get_loc_level\u001b[0;34m(self, key, level)\u001b[0m\n\u001b[1;32m   3049\u001b[0m         \u001b[38;5;28;01mpass\u001b[39;00m\n\u001b[1;32m   3051\u001b[0m \u001b[38;5;66;03m# partial selection\u001b[39;00m\n\u001b[0;32m-> 3052\u001b[0m indexer \u001b[38;5;241m=\u001b[39m \u001b[38;5;28;43mself\u001b[39;49m\u001b[38;5;241;43m.\u001b[39;49m\u001b[43mget_loc\u001b[49m\u001b[43m(\u001b[49m\u001b[43mkey\u001b[49m\u001b[43m)\u001b[49m\n\u001b[1;32m   3053\u001b[0m ilevels \u001b[38;5;241m=\u001b[39m [i \u001b[38;5;28;01mfor\u001b[39;00m i \u001b[38;5;129;01min\u001b[39;00m \u001b[38;5;28mrange\u001b[39m(\u001b[38;5;28mlen\u001b[39m(key)) \u001b[38;5;28;01mif\u001b[39;00m key[i] \u001b[38;5;241m!=\u001b[39m \u001b[38;5;28mslice\u001b[39m(\u001b[38;5;28;01mNone\u001b[39;00m, \u001b[38;5;28;01mNone\u001b[39;00m)]\n\u001b[1;32m   3054\u001b[0m \u001b[38;5;28;01mif\u001b[39;00m \u001b[38;5;28mlen\u001b[39m(ilevels) \u001b[38;5;241m==\u001b[39m \u001b[38;5;28mself\u001b[39m\u001b[38;5;241m.\u001b[39mnlevels:\n",
      "File \u001b[0;32m~/anaconda3/envs/pyscenic/lib/python3.10/site-packages/pandas/core/indexes/multi.py:2905\u001b[0m, in \u001b[0;36mMultiIndex.get_loc\u001b[0;34m(self, key, method)\u001b[0m\n\u001b[1;32m   2902\u001b[0m         \u001b[38;5;28;01mraise\u001b[39;00m \u001b[38;5;167;01mKeyError\u001b[39;00m(key) \u001b[38;5;28;01mfrom\u001b[39;00m \u001b[38;5;21;01merr\u001b[39;00m\n\u001b[1;32m   2904\u001b[0m \u001b[38;5;28;01mif\u001b[39;00m start \u001b[38;5;241m==\u001b[39m stop:\n\u001b[0;32m-> 2905\u001b[0m     \u001b[38;5;28;01mraise\u001b[39;00m \u001b[38;5;167;01mKeyError\u001b[39;00m(key)\n\u001b[1;32m   2907\u001b[0m \u001b[38;5;28;01mif\u001b[39;00m \u001b[38;5;129;01mnot\u001b[39;00m follow_key:\n\u001b[1;32m   2908\u001b[0m     \u001b[38;5;28;01mreturn\u001b[39;00m \u001b[38;5;28mslice\u001b[39m(start, stop)\n",
      "\u001b[0;31mKeyError\u001b[0m: ('SREBF2',)"
     ]
    }
   ],
   "source": [
    "df_motifs_SPR[(df_motifs_SPR.Enrichment.AUC > 0.5)].Enrichment.TargetGenes['SREBF2',]"
   ]
  },
  {
   "cell_type": "code",
   "execution_count": null,
   "id": "abcb4736-68d3-471f-be4d-26f8e2e91c6a",
   "metadata": {},
   "outputs": [],
   "source": []
  },
  {
   "cell_type": "code",
   "execution_count": null,
   "id": "35d5d709-9ec3-43d2-b12c-b9676c4ae045",
   "metadata": {},
   "outputs": [],
   "source": []
  }
 ],
 "metadata": {
  "kernelspec": {
   "display_name": "pyscenic",
   "language": "python",
   "name": "pyscenic"
  },
  "language_info": {
   "codemirror_mode": {
    "name": "ipython",
    "version": 3
   },
   "file_extension": ".py",
   "mimetype": "text/x-python",
   "name": "python",
   "nbconvert_exporter": "python",
   "pygments_lexer": "ipython3",
   "version": "3.10.6"
  }
 },
 "nbformat": 4,
 "nbformat_minor": 5
}
